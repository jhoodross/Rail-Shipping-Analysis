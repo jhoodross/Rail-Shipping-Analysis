{
 "cells": [
  {
   "cell_type": "code",
   "execution_count": 1,
   "id": "b33067e6",
   "metadata": {},
   "outputs": [],
   "source": [
    "import pandas as pd\n",
    "df = pd.read_csv('dot1_1022.csv')\n",
    "pd.set_option('display.max_rows', None)\n",
    "pd.set_option('display.max_columns', None)\n",
    "import seaborn as sns\n",
    "import matplotlib.pyplot as plt\n",
    "pd.options.display.float_format = '{:.2f}'.format"
   ]
  },
  {
   "cell_type": "code",
   "execution_count": 2,
   "id": "8f275632",
   "metadata": {},
   "outputs": [
    {
     "data": {
      "text/html": [
       "<div>\n",
       "<style scoped>\n",
       "    .dataframe tbody tr th:only-of-type {\n",
       "        vertical-align: middle;\n",
       "    }\n",
       "\n",
       "    .dataframe tbody tr th {\n",
       "        vertical-align: top;\n",
       "    }\n",
       "\n",
       "    .dataframe thead th {\n",
       "        text-align: right;\n",
       "    }\n",
       "</style>\n",
       "<table border=\"1\" class=\"dataframe\">\n",
       "  <thead>\n",
       "    <tr style=\"text-align: right;\">\n",
       "      <th></th>\n",
       "      <th>TRDTYPE</th>\n",
       "      <th>USASTATE</th>\n",
       "      <th>DEPE</th>\n",
       "      <th>DISAGMOT</th>\n",
       "      <th>MEXSTATE</th>\n",
       "      <th>CANPROV</th>\n",
       "      <th>COUNTRY</th>\n",
       "      <th>VALUE</th>\n",
       "      <th>SHIPWT</th>\n",
       "      <th>FREIGHT_CHARGES</th>\n",
       "      <th>DF</th>\n",
       "      <th>CONTCODE</th>\n",
       "      <th>MONTH</th>\n",
       "      <th>YEAR</th>\n",
       "    </tr>\n",
       "  </thead>\n",
       "  <tbody>\n",
       "    <tr>\n",
       "      <th>17344</th>\n",
       "      <td>1</td>\n",
       "      <td>WI</td>\n",
       "      <td>2506</td>\n",
       "      <td>5</td>\n",
       "      <td>DF</td>\n",
       "      <td>NaN</td>\n",
       "      <td>2010</td>\n",
       "      <td>2633</td>\n",
       "      <td>0</td>\n",
       "      <td>0</td>\n",
       "      <td>1.00</td>\n",
       "      <td>0</td>\n",
       "      <td>10</td>\n",
       "      <td>2022</td>\n",
       "    </tr>\n",
       "  </tbody>\n",
       "</table>\n",
       "</div>"
      ],
      "text/plain": [
       "       TRDTYPE USASTATE  DEPE  DISAGMOT MEXSTATE CANPROV  COUNTRY  VALUE  \\\n",
       "17344        1       WI  2506         5       DF     NaN     2010   2633   \n",
       "\n",
       "       SHIPWT  FREIGHT_CHARGES   DF CONTCODE  MONTH  YEAR  \n",
       "17344       0                0 1.00        0     10  2022  "
      ]
     },
     "execution_count": 2,
     "metadata": {},
     "output_type": "execute_result"
    }
   ],
   "source": [
    "df.sample()"
   ]
  },
  {
   "cell_type": "code",
   "execution_count": 44,
   "id": "2a7959b1",
   "metadata": {},
   "outputs": [
    {
     "data": {
      "text/plain": [
       "Index(['TRDTYPE', 'USASTATE', 'DEPE', 'DISAGMOT', 'MEXSTATE', 'CANPROV',\n",
       "       'COUNTRY', 'VALUE', 'SHIPWT', 'FREIGHT_CHARGES', 'DF', 'CONTCODE',\n",
       "       'MONTH', 'YEAR'],\n",
       "      dtype='object')"
      ]
     },
     "execution_count": 44,
     "metadata": {},
     "output_type": "execute_result"
    }
   ],
   "source": [
    "df.columns"
   ]
  },
  {
   "cell_type": "code",
   "execution_count": 3,
   "id": "4923c74c",
   "metadata": {},
   "outputs": [],
   "source": [
    "df = df[['TRDTYPE', 'USASTATE', 'DEPE', 'DISAGMOT', \n",
    "#          'MEXSTATE', 'CANPROV', 'COUNTRY', \n",
    "         'VALUE', 'SHIPWT', 'FREIGHT_CHARGES', 'DF', \n",
    "#          'CONTCODE', 'MONTH', 'YEAR'\n",
    "        ]]"
   ]
  },
  {
   "cell_type": "code",
   "execution_count": 4,
   "id": "7b0febfb",
   "metadata": {},
   "outputs": [],
   "source": [
    "df['TRDTYPE'] = df['TRDTYPE'].map({\n",
    "    1 : 'Export',\n",
    "    2 : 'Import'\n",
    "})"
   ]
  },
  {
   "cell_type": "code",
   "execution_count": 5,
   "id": "96619796",
   "metadata": {},
   "outputs": [],
   "source": [
    "df['DF'] = df['DF'].map({\n",
    "    1 : 'Domestic',\n",
    "    2 : 'Foreign'\n",
    "})"
   ]
  },
  {
   "cell_type": "code",
   "execution_count": 6,
   "id": "c311a349",
   "metadata": {},
   "outputs": [],
   "source": [
    "df['DISAGMOT'] = df['DISAGMOT'].map({\n",
    "    1 : 'Vessel',\n",
    "    3 : 'Air',\n",
    "    4 : 'USPS',\n",
    "    5 : 'Truck',\n",
    "    6 : 'Rail',\n",
    "    7 : 'Pipeline',\n",
    "    8 : 'Other',\n",
    "    9 : 'FTZs'\n",
    "})"
   ]
  },
  {
   "cell_type": "code",
   "execution_count": 8,
   "id": "a28d911b",
   "metadata": {},
   "outputs": [
    {
     "data": {
      "text/html": [
       "<div>\n",
       "<style scoped>\n",
       "    .dataframe tbody tr th:only-of-type {\n",
       "        vertical-align: middle;\n",
       "    }\n",
       "\n",
       "    .dataframe tbody tr th {\n",
       "        vertical-align: top;\n",
       "    }\n",
       "\n",
       "    .dataframe thead th {\n",
       "        text-align: right;\n",
       "    }\n",
       "</style>\n",
       "<table border=\"1\" class=\"dataframe\">\n",
       "  <thead>\n",
       "    <tr style=\"text-align: right;\">\n",
       "      <th></th>\n",
       "      <th>TRDTYPE</th>\n",
       "      <th>USASTATE</th>\n",
       "      <th>DEPE</th>\n",
       "      <th>DISAGMOT</th>\n",
       "      <th>VALUE</th>\n",
       "      <th>SHIPWT</th>\n",
       "      <th>FREIGHT_CHARGES</th>\n",
       "      <th>DF</th>\n",
       "    </tr>\n",
       "  </thead>\n",
       "  <tbody>\n",
       "    <tr>\n",
       "      <th>0</th>\n",
       "      <td>Export</td>\n",
       "      <td>AK</td>\n",
       "      <td>0712</td>\n",
       "      <td>Truck</td>\n",
       "      <td>2875</td>\n",
       "      <td>0</td>\n",
       "      <td>21</td>\n",
       "      <td>Domestic</td>\n",
       "    </tr>\n",
       "    <tr>\n",
       "      <th>1</th>\n",
       "      <td>Export</td>\n",
       "      <td>AK</td>\n",
       "      <td>09XX</td>\n",
       "      <td>Air</td>\n",
       "      <td>2568</td>\n",
       "      <td>4</td>\n",
       "      <td>65</td>\n",
       "      <td>Domestic</td>\n",
       "    </tr>\n",
       "    <tr>\n",
       "      <th>2</th>\n",
       "      <td>Export</td>\n",
       "      <td>AK</td>\n",
       "      <td>20XX</td>\n",
       "      <td>Air</td>\n",
       "      <td>94896</td>\n",
       "      <td>905</td>\n",
       "      <td>5211</td>\n",
       "      <td>Domestic</td>\n",
       "    </tr>\n",
       "    <tr>\n",
       "      <th>3</th>\n",
       "      <td>Export</td>\n",
       "      <td>AK</td>\n",
       "      <td>20XX</td>\n",
       "      <td>Air</td>\n",
       "      <td>35776</td>\n",
       "      <td>256</td>\n",
       "      <td>491</td>\n",
       "      <td>Foreign</td>\n",
       "    </tr>\n",
       "    <tr>\n",
       "      <th>4</th>\n",
       "      <td>Export</td>\n",
       "      <td>AK</td>\n",
       "      <td>20XX</td>\n",
       "      <td>Air</td>\n",
       "      <td>169358</td>\n",
       "      <td>536</td>\n",
       "      <td>11560</td>\n",
       "      <td>Domestic</td>\n",
       "    </tr>\n",
       "  </tbody>\n",
       "</table>\n",
       "</div>"
      ],
      "text/plain": [
       "  TRDTYPE USASTATE  DEPE DISAGMOT   VALUE  SHIPWT  FREIGHT_CHARGES        DF\n",
       "0  Export       AK  0712    Truck    2875       0               21  Domestic\n",
       "1  Export       AK  09XX      Air    2568       4               65  Domestic\n",
       "2  Export       AK  20XX      Air   94896     905             5211  Domestic\n",
       "3  Export       AK  20XX      Air   35776     256              491   Foreign\n",
       "4  Export       AK  20XX      Air  169358     536            11560  Domestic"
      ]
     },
     "execution_count": 8,
     "metadata": {},
     "output_type": "execute_result"
    }
   ],
   "source": [
    "df.head()"
   ]
  },
  {
   "cell_type": "markdown",
   "id": "7febf9b1",
   "metadata": {},
   "source": [
    "**Top 10 US States For Import/Export**"
   ]
  },
  {
   "cell_type": "code",
   "execution_count": 49,
   "id": "1ee0b57c",
   "metadata": {},
   "outputs": [
    {
     "data": {
      "image/png": "[encoded data removed]",
      "text/plain": [
       "<Figure size 640x480 with 1 Axes>"
      ]
     },
     "metadata": {},
     "output_type": "display_data"
    }
   ],
   "source": [
    "plt.figure.figsize=(10,5)\n",
    "plt.title='Top 10 US States for Export'\n",
    "plt.xlabel='US State'\n",
    "ex_state = df[df.TRDTYPE == 'Export'].USASTATE.value_counts()\n",
    "ex_state = ex_state[:10,]\n",
    "sns.barplot(x=ex_state.index, y=ex_state.values, data=df, alpha=0.5)\n",
    "plt.ylabel='Count'\n",
    "\n",
    "plt.show()\n"
   ]
  },
  {
   "cell_type": "code",
   "execution_count": 51,
   "id": "13c90ef9",
   "metadata": {},
   "outputs": [
    {
     "data": {
      "image/png": "[encoded data removed]",
      "text/plain": [
       "<Figure size 640x480 with 1 Axes>"
      ]
     },
     "metadata": {},
     "output_type": "display_data"
    }
   ],
   "source": [
    "im_state = df[df.TRDTYPE == 'Import'].USASTATE.value_counts()\n",
    "im_state = im_state[:10,]\n",
    "sns.barplot(x=im_state.index, y=im_state.values, data=df, alpha=0.8)\n",
    "plt.show\n",
    "\n",
    "plt.title='Top 10 US States for Imports'\n",
    "plt.ylabel='Count'\n",
    "plt.xlabel='US States'"
   ]
  },
  {
   "cell_type": "markdown",
   "id": "4b916b2e",
   "metadata": {},
   "source": [
    "**Top 10 US States for Shipping Value**"
   ]
  },
  {
   "cell_type": "code",
   "execution_count": 58,
   "id": "417c49a3",
   "metadata": {},
   "outputs": [
    {
     "data": {
      "image/png": "[encoded data removed]",
      "text/plain": [
       "<Figure size 640x480 with 1 Axes>"
      ]
     },
     "metadata": {},
     "output_type": "display_data"
    }
   ],
   "source": [
    "port_rail = df[df.DISAGMOT == 'Rail'].DEPE.value_counts()\n",
    "port_rail = port_rail[:10,]\n",
    "sns.barplot(x=port_rail.index, y=port_rail.values, data=df, alpha=0.6)\n",
    "plt.show()"
   ]
  },
  {
   "cell_type": "code",
   "execution_count": 8,
   "id": "4b88f864",
   "metadata": {},
   "outputs": [
    {
     "data": {
      "image/png": "[encoded data removed]",
      "text/plain": [
       "<Figure size 640x480 with 1 Axes>"
      ]
     },
     "metadata": {},
     "output_type": "display_data"
    }
   ],
   "source": [
    "port_pipe = df[df.DISAGMOT == 'Pipeline'].DEPE.value_counts()\n",
    "port_pipe = port_pipe[:10,]\n",
    "sns.barplot(x=port_pipe.index, y=port_pipe.values, data=df, alpha=0.7)\n",
    "plt.show()"
   ]
  },
  {
   "cell_type": "code",
   "execution_count": 60,
   "id": "cb416b1e",
   "metadata": {},
   "outputs": [
    {
     "data": {
      "text/plain": [
       "TRDTYPE                0\n",
       "USASTATE               0\n",
       "DEPE                   0\n",
       "DISAGMOT               0\n",
       "VALUE                  0\n",
       "SHIPWT                 0\n",
       "FREIGHT_CHARGES        0\n",
       "DF                 10632\n",
       "dtype: int64"
      ]
     },
     "execution_count": 60,
     "metadata": {},
     "output_type": "execute_result"
    }
   ],
   "source": [
    "df.isna().sum()"
   ]
  },
  {
   "cell_type": "code",
   "execution_count": 7,
   "id": "0cda17ba",
   "metadata": {},
   "outputs": [
    {
     "name": "stdout",
     "output_type": "stream",
     "text": [
      "DISAGMOT  USASTATE\n",
      "Air       CA         0.05\n",
      "          TX         0.05\n",
      "          IL         0.04\n",
      "          FL         0.04\n",
      "          NY         0.03\n",
      "          GA         0.03\n",
      "          PA         0.03\n",
      "          NC         0.03\n",
      "          NJ         0.03\n",
      "          OH         0.03\n",
      "Name: USASTATE, dtype: float64\n"
     ]
    },
    {
     "data": {
      "image/png": "[encoded data removed]",
      "text/plain": [
       "<Figure size 1000x500 with 1 Axes>"
      ]
     },
     "metadata": {},
     "output_type": "display_data"
    }
   ],
   "source": [
    "mot_state = df.groupby('DISAGMOT').USASTATE.value_counts(normalize=True)\n",
    "mot_state = mot_state[:10,]\n",
    "print(mot_state)\n",
    "# sns.barplot(x=mot_state.index, y=mot_state.values, data=df, alpha=0.4)\n",
    "mot_state.plot(kind='bar', figsize=(10,5), alpha=0.4)\n",
    "plt.show()\n"
   ]
  },
  {
   "cell_type": "code",
   "execution_count": 73,
   "id": "006e4c32",
   "metadata": {},
   "outputs": [
    {
     "data": {
      "image/png": "[encoded data removed]",
      "text/plain": [
       "<Figure size 640x480 with 1 Axes>"
      ]
     },
     "metadata": {},
     "output_type": "display_data"
    }
   ],
   "source": [
    "vessel = df[df.DISAGMOT == 'Vessel'].USASTATE.value_counts()\n",
    "vessel = vessel[:10,]\n",
    "sns.barplot(x=vessel.index, y=vessel.values, data=df, alpha=0.4)\n",
    "plt.show()"
   ]
  },
  {
   "cell_type": "code",
   "execution_count": 74,
   "id": "c5203afe",
   "metadata": {},
   "outputs": [
    {
     "data": {
      "image/png": "[encoded data removed]",
      "text/plain": [
       "<Figure size 640x480 with 1 Axes>"
      ]
     },
     "metadata": {},
     "output_type": "display_data"
    }
   ],
   "source": [
    "vessel_port = df[df.DISAGMOT == 'Vessel'].DEPE.value_counts()\n",
    "vessel_port = vessel_port[:10,]\n",
    "sns.barplot(x=vessel_port.index, y=vessel_port.values, data=df, alpha=0.3)\n",
    "plt.show()"
   ]
  },
  {
   "cell_type": "code",
   "execution_count": 84,
   "id": "7212e4f2",
   "metadata": {},
   "outputs": [
    {
     "data": {
      "text/plain": [
       "Index(['TRDTYPE', 'USASTATE', 'DEPE', 'DISAGMOT', 'VALUE', 'SHIPWT',\n",
       "       'FREIGHT_CHARGES', 'DF'],\n",
       "      dtype='object')"
      ]
     },
     "execution_count": 84,
     "metadata": {},
     "output_type": "execute_result"
    }
   ],
   "source": [
    "df.columns"
   ]
  },
  {
   "cell_type": "code",
   "execution_count": 88,
   "id": "597164d2",
   "metadata": {},
   "outputs": [
    {
     "data": {
      "image/png": "[encoded data removed]",
      "text/plain": [
       "<Figure size 1000x500 with 1 Axes>"
      ]
     },
     "metadata": {},
     "output_type": "display_data"
    }
   ],
   "source": [
    "port_val = df.groupby('VALUE').USASTATE.value_counts()\n",
    "port_val = port_val[:10,]\n",
    "port_val.plot(kind='bar', figsize=(10,5), alpha=0.5)\n",
    "plt.show()"
   ]
  },
  {
   "cell_type": "code",
   "execution_count": 10,
   "id": "f274bd4b",
   "metadata": {},
   "outputs": [
    {
     "data": {
      "text/html": [
       "<div>\n",
       "<style scoped>\n",
       "    .dataframe tbody tr th:only-of-type {\n",
       "        vertical-align: middle;\n",
       "    }\n",
       "\n",
       "    .dataframe tbody tr th {\n",
       "        vertical-align: top;\n",
       "    }\n",
       "\n",
       "    .dataframe thead th {\n",
       "        text-align: right;\n",
       "    }\n",
       "</style>\n",
       "<table border=\"1\" class=\"dataframe\">\n",
       "  <thead>\n",
       "    <tr style=\"text-align: right;\">\n",
       "      <th></th>\n",
       "      <th>TRDTYPE</th>\n",
       "      <th>USASTATE</th>\n",
       "      <th>DEPE</th>\n",
       "      <th>DISAGMOT</th>\n",
       "      <th>VALUE</th>\n",
       "      <th>SHIPWT</th>\n",
       "      <th>FREIGHT_CHARGES</th>\n",
       "      <th>DF</th>\n",
       "    </tr>\n",
       "  </thead>\n",
       "  <tbody>\n",
       "    <tr>\n",
       "      <th>28485</th>\n",
       "      <td>Import</td>\n",
       "      <td>WY</td>\n",
       "      <td>41XX</td>\n",
       "      <td>Air</td>\n",
       "      <td>25756</td>\n",
       "      <td>237</td>\n",
       "      <td>200</td>\n",
       "      <td>NaN</td>\n",
       "    </tr>\n",
       "    <tr>\n",
       "      <th>4309</th>\n",
       "      <td>Export</td>\n",
       "      <td>ID</td>\n",
       "      <td>20XX</td>\n",
       "      <td>Air</td>\n",
       "      <td>236470</td>\n",
       "      <td>391</td>\n",
       "      <td>5176</td>\n",
       "      <td>Foreign</td>\n",
       "    </tr>\n",
       "    <tr>\n",
       "      <th>4308</th>\n",
       "      <td>Export</td>\n",
       "      <td>ID</td>\n",
       "      <td>20XX</td>\n",
       "      <td>Air</td>\n",
       "      <td>471641</td>\n",
       "      <td>1171</td>\n",
       "      <td>6587</td>\n",
       "      <td>Domestic</td>\n",
       "    </tr>\n",
       "    <tr>\n",
       "      <th>4307</th>\n",
       "      <td>Export</td>\n",
       "      <td>ID</td>\n",
       "      <td>20XX</td>\n",
       "      <td>Air</td>\n",
       "      <td>333964</td>\n",
       "      <td>5596</td>\n",
       "      <td>4233</td>\n",
       "      <td>Foreign</td>\n",
       "    </tr>\n",
       "    <tr>\n",
       "      <th>4306</th>\n",
       "      <td>Export</td>\n",
       "      <td>ID</td>\n",
       "      <td>20XX</td>\n",
       "      <td>Air</td>\n",
       "      <td>794497</td>\n",
       "      <td>1370</td>\n",
       "      <td>7280</td>\n",
       "      <td>Domestic</td>\n",
       "    </tr>\n",
       "  </tbody>\n",
       "</table>\n",
       "</div>"
      ],
      "text/plain": [
       "      TRDTYPE USASTATE  DEPE DISAGMOT   VALUE  SHIPWT  FREIGHT_CHARGES  \\\n",
       "28485  Import       WY  41XX      Air   25756     237              200   \n",
       "4309   Export       ID  20XX      Air  236470     391             5176   \n",
       "4308   Export       ID  20XX      Air  471641    1171             6587   \n",
       "4307   Export       ID  20XX      Air  333964    5596             4233   \n",
       "4306   Export       ID  20XX      Air  794497    1370             7280   \n",
       "\n",
       "             DF  \n",
       "28485       NaN  \n",
       "4309    Foreign  \n",
       "4308   Domestic  \n",
       "4307    Foreign  \n",
       "4306   Domestic  "
      ]
     },
     "execution_count": 10,
     "metadata": {},
     "output_type": "execute_result"
    }
   ],
   "source": [
    "df.sort_values('DISAGMOT').head()"
   ]
  },
  {
   "cell_type": "code",
   "execution_count": 11,
   "id": "eeb19405",
   "metadata": {},
   "outputs": [
    {
     "data": {
      "text/html": [
       "<div>\n",
       "<style scoped>\n",
       "    .dataframe tbody tr th:only-of-type {\n",
       "        vertical-align: middle;\n",
       "    }\n",
       "\n",
       "    .dataframe tbody tr th {\n",
       "        vertical-align: top;\n",
       "    }\n",
       "\n",
       "    .dataframe thead th {\n",
       "        text-align: right;\n",
       "    }\n",
       "</style>\n",
       "<table border=\"1\" class=\"dataframe\">\n",
       "  <thead>\n",
       "    <tr style=\"text-align: right;\">\n",
       "      <th></th>\n",
       "      <th>TRDTYPE</th>\n",
       "      <th>USASTATE</th>\n",
       "      <th>DEPE</th>\n",
       "      <th>DISAGMOT</th>\n",
       "      <th>VALUE</th>\n",
       "      <th>SHIPWT</th>\n",
       "      <th>FREIGHT_CHARGES</th>\n",
       "      <th>DF</th>\n",
       "    </tr>\n",
       "  </thead>\n",
       "  <tbody>\n",
       "    <tr>\n",
       "      <th>27918</th>\n",
       "      <td>Import</td>\n",
       "      <td>WA</td>\n",
       "      <td>30XX</td>\n",
       "      <td>Vessel</td>\n",
       "      <td>361014</td>\n",
       "      <td>27516300</td>\n",
       "      <td>10000</td>\n",
       "      <td>NaN</td>\n",
       "    </tr>\n",
       "    <tr>\n",
       "      <th>16928</th>\n",
       "      <td>Export</td>\n",
       "      <td>WA</td>\n",
       "      <td>30XX</td>\n",
       "      <td>Vessel</td>\n",
       "      <td>42638</td>\n",
       "      <td>214</td>\n",
       "      <td>520</td>\n",
       "      <td>Domestic</td>\n",
       "    </tr>\n",
       "    <tr>\n",
       "      <th>16927</th>\n",
       "      <td>Export</td>\n",
       "      <td>WA</td>\n",
       "      <td>30XX</td>\n",
       "      <td>Vessel</td>\n",
       "      <td>1574884</td>\n",
       "      <td>30018</td>\n",
       "      <td>11849</td>\n",
       "      <td>Foreign</td>\n",
       "    </tr>\n",
       "    <tr>\n",
       "      <th>19995</th>\n",
       "      <td>Import</td>\n",
       "      <td>GA</td>\n",
       "      <td>15XX</td>\n",
       "      <td>Vessel</td>\n",
       "      <td>2915</td>\n",
       "      <td>110</td>\n",
       "      <td>58</td>\n",
       "      <td>NaN</td>\n",
       "    </tr>\n",
       "    <tr>\n",
       "      <th>19994</th>\n",
       "      <td>Import</td>\n",
       "      <td>GA</td>\n",
       "      <td>14XX</td>\n",
       "      <td>Vessel</td>\n",
       "      <td>7910</td>\n",
       "      <td>25144</td>\n",
       "      <td>2500</td>\n",
       "      <td>NaN</td>\n",
       "    </tr>\n",
       "  </tbody>\n",
       "</table>\n",
       "</div>"
      ],
      "text/plain": [
       "      TRDTYPE USASTATE  DEPE DISAGMOT    VALUE    SHIPWT  FREIGHT_CHARGES  \\\n",
       "27918  Import       WA  30XX   Vessel   361014  27516300            10000   \n",
       "16928  Export       WA  30XX   Vessel    42638       214              520   \n",
       "16927  Export       WA  30XX   Vessel  1574884     30018            11849   \n",
       "19995  Import       GA  15XX   Vessel     2915       110               58   \n",
       "19994  Import       GA  14XX   Vessel     7910     25144             2500   \n",
       "\n",
       "             DF  \n",
       "27918       NaN  \n",
       "16928  Domestic  \n",
       "16927   Foreign  \n",
       "19995       NaN  \n",
       "19994       NaN  "
      ]
     },
     "execution_count": 11,
     "metadata": {},
     "output_type": "execute_result"
    }
   ],
   "source": [
    "df.sort_values('DISAGMOT', ascending=False).head()"
   ]
  },
  {
   "cell_type": "code",
   "execution_count": 16,
   "id": "e4b38dbb",
   "metadata": {},
   "outputs": [
    {
     "data": {
      "text/html": [
       "<div>\n",
       "<style scoped>\n",
       "    .dataframe tbody tr th:only-of-type {\n",
       "        vertical-align: middle;\n",
       "    }\n",
       "\n",
       "    .dataframe tbody tr th {\n",
       "        vertical-align: top;\n",
       "    }\n",
       "\n",
       "    .dataframe thead th {\n",
       "        text-align: right;\n",
       "    }\n",
       "</style>\n",
       "<table border=\"1\" class=\"dataframe\">\n",
       "  <thead>\n",
       "    <tr style=\"text-align: right;\">\n",
       "      <th></th>\n",
       "      <th>TRDTYPE</th>\n",
       "      <th>USASTATE</th>\n",
       "      <th>DEPE</th>\n",
       "      <th>DISAGMOT</th>\n",
       "      <th>VALUE</th>\n",
       "      <th>SHIPWT</th>\n",
       "      <th>FREIGHT_CHARGES</th>\n",
       "      <th>DF</th>\n",
       "    </tr>\n",
       "  </thead>\n",
       "  <tbody>\n",
       "    <tr>\n",
       "      <th>20925</th>\n",
       "      <td>Import</td>\n",
       "      <td>IL</td>\n",
       "      <td>39XX</td>\n",
       "      <td>Pipeline</td>\n",
       "      <td>3898220115</td>\n",
       "      <td>7363930326</td>\n",
       "      <td>175188532</td>\n",
       "      <td>NaN</td>\n",
       "    </tr>\n",
       "    <tr>\n",
       "      <th>26869</th>\n",
       "      <td>Import</td>\n",
       "      <td>TX</td>\n",
       "      <td>2304</td>\n",
       "      <td>Truck</td>\n",
       "      <td>3793741947</td>\n",
       "      <td>978274186</td>\n",
       "      <td>34717335</td>\n",
       "      <td>NaN</td>\n",
       "    </tr>\n",
       "    <tr>\n",
       "      <th>26898</th>\n",
       "      <td>Import</td>\n",
       "      <td>TX</td>\n",
       "      <td>2401</td>\n",
       "      <td>Truck</td>\n",
       "      <td>2738327291</td>\n",
       "      <td>114477373</td>\n",
       "      <td>5799706</td>\n",
       "      <td>NaN</td>\n",
       "    </tr>\n",
       "    <tr>\n",
       "      <th>2836</th>\n",
       "      <td>Export</td>\n",
       "      <td>DU</td>\n",
       "      <td>70XX</td>\n",
       "      <td>Other</td>\n",
       "      <td>2148106871</td>\n",
       "      <td>0</td>\n",
       "      <td>0</td>\n",
       "      <td>Domestic</td>\n",
       "    </tr>\n",
       "    <tr>\n",
       "      <th>18640</th>\n",
       "      <td>Import</td>\n",
       "      <td>CA</td>\n",
       "      <td>2506</td>\n",
       "      <td>Truck</td>\n",
       "      <td>2022119509</td>\n",
       "      <td>294237080</td>\n",
       "      <td>7146800</td>\n",
       "      <td>NaN</td>\n",
       "    </tr>\n",
       "  </tbody>\n",
       "</table>\n",
       "</div>"
      ],
      "text/plain": [
       "      TRDTYPE USASTATE  DEPE  DISAGMOT       VALUE      SHIPWT  \\\n",
       "20925  Import       IL  39XX  Pipeline  3898220115  7363930326   \n",
       "26869  Import       TX  2304     Truck  3793741947   978274186   \n",
       "26898  Import       TX  2401     Truck  2738327291   114477373   \n",
       "2836   Export       DU  70XX     Other  2148106871           0   \n",
       "18640  Import       CA  2506     Truck  2022119509   294237080   \n",
       "\n",
       "       FREIGHT_CHARGES        DF  \n",
       "20925        175188532       NaN  \n",
       "26869         34717335       NaN  \n",
       "26898          5799706       NaN  \n",
       "2836                 0  Domestic  \n",
       "18640          7146800       NaN  "
      ]
     },
     "execution_count": 16,
     "metadata": {},
     "output_type": "execute_result"
    }
   ],
   "source": [
    "df.sort_values(['VALUE', 'SHIPWT'], ascending=False).head()"
   ]
  },
  {
   "cell_type": "code",
   "execution_count": 17,
   "id": "7660b12d",
   "metadata": {},
   "outputs": [
    {
     "data": {
      "text/plain": [
       "TRDTYPE            object\n",
       "USASTATE           object\n",
       "DEPE               object\n",
       "DISAGMOT           object\n",
       "VALUE               int64\n",
       "SHIPWT              int64\n",
       "FREIGHT_CHARGES     int64\n",
       "DF                 object\n",
       "dtype: object"
      ]
     },
     "execution_count": 17,
     "metadata": {},
     "output_type": "execute_result"
    }
   ],
   "source": [
    "df.dtypes"
   ]
  },
  {
   "cell_type": "code",
   "execution_count": null,
   "id": "97eff182",
   "metadata": {},
   "outputs": [],
   "source": []
  }
 ],
 "metadata": {
  "hide_input": false,
  "kernelspec": {
   "display_name": "Python 3 (ipykernel)",
   "language": "python",
   "name": "python3"
  },
  "language_info": {
   "codemirror_mode": {
    "name": "ipython",
    "version": 3
   },
   "file_extension": ".py",
   "mimetype": "text/x-python",
   "name": "python",
   "nbconvert_exporter": "python",
   "pygments_lexer": "ipython3",
   "version": "3.9.12"
  },
  "toc": {
   "base_numbering": 1,
   "nav_menu": {},
   "number_sections": true,
   "sideBar": true,
   "skip_h1_title": false,
   "title_cell": "Table of Contents",
   "title_sidebar": "Contents",
   "toc_cell": false,
   "toc_position": {},
   "toc_section_display": true,
   "toc_window_display": false
  }
 },
 "nbformat": 4,
 "nbformat_minor": 5
}
